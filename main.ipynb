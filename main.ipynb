{
 "cells": [
  {
   "cell_type": "code",
   "execution_count": 1,
   "metadata": {},
   "outputs": [],
   "source": [
    "import warnings\n",
    "warnings.filterwarnings('ignore')\n",
    "\n",
    "import pandas as pd\n",
    "import numpy as np\n",
    "import pandas_datareader as pdr\n",
    "from statsmodels.tsa.arima_model import ARIMA\n",
    "import pmdarima as pm\n",
    "from fastapi import FastAPI\n",
    "import uvicorn\n",
    "import pydantic\n",
    "import nest_asyncio\n",
    "nest_asyncio.apply()\n",
    "\n",
    "app = FastAPI()\n",
    "\n",
    "def Arima(ticker):\n",
    "    \n",
    "    #Dataset of Ticker\n",
    "    df = pdr.DataReader(ticker, data_source='yahoo', start='2016-01-01')\n",
    "    df.index = pd.to_datetime(df.index, format=\"%Y/%m/%d\")\n",
    "    df = pd.Series(df['Close'])\n",
    "    last_day=df[-1]\n",
    "    #Best Order\n",
    "    auto_order = pm.auto_arima(df, start_p=0, start_q=0, test='adf', max_p=3, max_q=3, m=1,d=None,seasonal=False   \n",
    "                      ,start_P=0,D=0, trace=True,error_action='ignore',suppress_warnings=True,stepwise=True)\n",
    "    best_order = auto_order.order\n",
    "    # Fit Model\n",
    "    model = ARIMA(df, order=best_order)\n",
    "    model_fit = model.fit(disp=0)\n",
    "    fc ,se, conf = model_fit.forecast(1)\n",
    "    \n",
    "    diff = fc - last_day\n",
    "    \n",
    "    return fc , diff\n",
    "    \n",
    "\n",
    "@app.get('/')\n",
    "\n",
    "def index():\n",
    "    return {'message': 'Hello!'}\n",
    "\n",
    "@app.post('/predict')\n",
    "\n",
    "async def predict_price(ticker:str):\n",
    "    \n",
    "    fc ,diff = Arima(ticker)\n",
    "    return {'prediction':fc[0],'difference':diff[0]}\n",
    "       \n",
    "if __name__ == '__main__':\n",
    "    uvicorn.run(app, host='127.0.0.1', port=8000)\n",
    "    \n",
    "    "
   ]
  }
 ],
 "metadata": {
  "kernelspec": {
   "display_name": "Python 3",
   "language": "python",
   "name": "python3"
  },
  "language_info": {
   "codemirror_mode": {
    "name": "ipython",
    "version": 3
   },
   "file_extension": ".py",
   "mimetype": "text/x-python",
   "name": "python",
   "nbconvert_exporter": "python",
   "pygments_lexer": "ipython3",
   "version": "3.7.6"
  }
 },
 "nbformat": 4,
 "nbformat_minor": 4
}
